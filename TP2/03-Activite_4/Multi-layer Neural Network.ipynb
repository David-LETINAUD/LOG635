{
 "cells": [
  {
   "cell_type": "markdown",
   "metadata": {},
   "source": [
    "---\n",
    "## <font color=\"red\">1 | CLASSIFICATEUR </font> POUR LE _DATASET_ FASHION-MNIST\n",
    "---\n",
    "\n",
    "Dans ce notebook, vous apprendrez à implémenter et à entraîner un réseau de neurones (NN) avec une couche cachée dans l'ensemble de données Fashion MNIST en Python, ce qui vous permettra de classer des images des vêtements."
   ]
  },
  {
   "cell_type": "markdown",
   "metadata": {},
   "source": [
    "### <font color=\"red\">1.1 - Les</font> paquets\n",
    "---\n",
    "Importons d’abord tous les packages dont vous aurez besoin. Si dans votre environnement python il vous manque quelque paquet, vous pouvez l'installer avec la commande `pip intall <paquet>` :\n",
    "\n",
    "* [mathplotlib](https://matplotlib.org/) : C'est une bibliothèque pour tracer des graphiques en Python.\n",
    "* [numpy](https://numpy.org/) : Extension destinée à manipuler des matrices ou tableaux multidimensionnels ainsi que des fonctions mathématiques opérant sur ces tableaux.\n",
    "* [idx2numpy](https://pypi.org/project/idx2numpy/) : Fournit les outils de conversion de fichiers du format IDX au format `numpy.ndarray` et vice versa.\n",
    "* [tabulate](https://pypi.org/project/idx2numpy/) : Pour afficher des tableaux d'une manière facile à lire."
   ]
  },
  {
   "cell_type": "code",
   "execution_count": 52,
   "metadata": {},
   "outputs": [],
   "source": [
    "import numpy as np\n",
    "import matplotlib.pyplot as plt\n",
    "from tabulate import tabulate\n",
    "from sklearn.preprocessing import MinMaxScaler\n",
    "import idx2numpy\n",
    "from plot_fmnist import *"
   ]
  },
  {
   "cell_type": "code",
   "execution_count": 2,
   "metadata": {},
   "outputs": [],
   "source": [
    "# Always run this cell to display the complete output in the cells, not just the last result.\n",
    "from IPython.core.interactiveshell import InteractiveShell\n",
    "InteractiveShell.ast_node_interactivity = \"all\""
   ]
  },
  {
   "cell_type": "markdown",
   "metadata": {},
   "source": [
    "### <font color=\"red\">1.2 - L'ensemble</font> FASHION-MNIST\n",
    "---\n",
    "Fashion-MNIST est un ensemble de données d'images d'articles de [Zalando](https://jobs.zalando.com/tech/), consistant en un ensemble de formation de 60.000 exemples et un ensemble de test de 10.000 exemples. Chaque exemple est une image en niveaux de gris de 28x28 pixels, associée à une étiquette d'entre 10 classes.\n",
    "\n",
    "Ce guide utilise Fashion-MNIST car il est un peu plus complexe que le MNIST (utilisé dans le notebook précédent). Les deux ensembles de données sont relativement petits et permettent de vérifier le bon fonctionnement d'un algorithme, dans ce cas, le réseau de neurones.\n",
    "\n",
    "Nous utiliserons 60.000 images pour entraîner le réseau et 10.000 images pour évaluer dans quelle mesure le réseau a appris à classer les images.\n",
    "\n",
    "Vous pouvez accéder à l'ensemble Fashion-MNIST directement sur le site Kagle ([fashion-mnist](https://www.kaggle.com/zalando-research/fashionmnist)) ou à partir de TensorFlow. Pour ce notebook, nous l'avons déjà disponible dans le dossier `data` :"
   ]
  },
  {
   "cell_type": "code",
   "execution_count": 3,
   "metadata": {
    "scrolled": true
   },
   "outputs": [],
   "source": [
    "# TRAINING DATASET\n",
    "# Examples\n",
    "X = idx2numpy.convert_from_file('data/train-images-idx3-ubyte')\n",
    "# Labels\n",
    "y = idx2numpy.convert_from_file('data/train-labels-idx1-ubyte')\n",
    "\n",
    "# TEST DATASET\n",
    "# Examples\n",
    "X_test = idx2numpy.convert_from_file('data/t10k-images-idx3-ubyte')\n",
    "# Labels\n",
    "y_test = idx2numpy.convert_from_file('data/t10k-labels-idx1-ubyte')"
   ]
  },
  {
   "cell_type": "markdown",
   "metadata": {},
   "source": [
    "* Les tableaux `X` et `y` sont les données que le modèle utilise pour apprendre pendant l'entraînement.\n",
    "\n",
    "* Le modèle est testé sur les données de test, X_test et y_test.\n",
    "\n",
    "Les images sont des tableaux NumPy 28x28, avec des valeurs de pixels allant de 0 à 255. Les étiquettes sont un tableau d’entiers allant de 0 à 9. Celles-ci correspondent à la classe de vêtement représentée par l’image. Chaque exemple d'entraînement et de test est attribué à l’une des étiquettes suivantes :\n",
    "\n",
    "\n",
    "| Label | Class \n",
    "| ----- | -----\n",
    "| 0 | T-shirt/top \n",
    "| 1 | Trouser \n",
    "| 2 | Pullover \n",
    "| 3 | Dress \n",
    "| 4 | Coat \n",
    "| 5 | Sandal \n",
    "| 6 | Shirt \n",
    "| 7 | Sneaker \n",
    "| 8 | Bag \n",
    "| 9 | Ankle boot\n",
    "\n",
    "Chaque image est mappée sur une seule étiquette. Étant donné que les noms de classe ne sont pas inclus dans l'ensemble de données, stockez-les ici pour les utiliser ultérieurement lors du traçage des images:\n",
    "\n",
    "Étant donné que les noms de classe ne sont pas inclus dans l'ensemble de données, nous allons créer une liste pour mapper cette table de correspondances entre le numéro d'étiquette et la classe, pour les utiliser ultérieurement lors du traçage des images :"
   ]
  },
  {
   "cell_type": "code",
   "execution_count": 4,
   "metadata": {},
   "outputs": [],
   "source": [
    "class_names = ['T-shirt/top', 'Trouser', 'Pullover', 'Dress', 'Coat', 'Sandal', 'Shirt', 'Sneaker', 'Bag', 'Ankle boot']"
   ]
  },
  {
   "cell_type": "markdown",
   "metadata": {},
   "source": [
    "### <font color=\"red\">1.3 - Exploration</font> des données\n",
    "---\n",
    "Explorons le format de l'ensemble de données avant d'entraîner le modèle. Les éléments suivants montrent que l'ensemble d’entraînement contient 60.000 images, chaque image étant représentée par 28 x 28 pixels:"
   ]
  },
  {
   "cell_type": "code",
   "execution_count": 5,
   "metadata": {},
   "outputs": [
    {
     "name": "stdout",
     "output_type": "stream",
     "text": [
      "X:  (60000, 28, 28) training examples\n",
      "X_test:  (10000, 28, 28) test examples\n"
     ]
    }
   ],
   "source": [
    "# Training dataset dimensions\n",
    "print(\"X: \", X.shape, \"training examples\")\n",
    "\n",
    "# Test dataset dimensions\n",
    "print(\"X_test: \", X_test.shape, \"test examples\")"
   ]
  },
  {
   "cell_type": "code",
   "execution_count": 6,
   "metadata": {},
   "outputs": [
    {
     "name": "stdout",
     "output_type": "stream",
     "text": [
      "y:  (60000,) training labels\n"
     ]
    },
    {
     "data": {
      "text/plain": [
       "array([9, 0, 0, ..., 3, 0, 5], dtype=uint8)"
      ]
     },
     "execution_count": 6,
     "metadata": {},
     "output_type": "execute_result"
    },
    {
     "name": "stdout",
     "output_type": "stream",
     "text": [
      "y_test:  (10000,) test labels\n"
     ]
    },
    {
     "data": {
      "text/plain": [
       "array([9, 2, 1, ..., 8, 1, 5], dtype=uint8)"
      ]
     },
     "execution_count": 6,
     "metadata": {},
     "output_type": "execute_result"
    }
   ],
   "source": [
    "print(\"y: \", y.shape, \"training labels\")\n",
    "y\n",
    "\n",
    "print(\"y_test: \", y_test.shape, \"test labels\")\n",
    "y_test"
   ]
  },
  {
   "cell_type": "markdown",
   "metadata": {},
   "source": [
    "Maintenant, créons une fonction pour tracer une image de l'ensemble :"
   ]
  },
  {
   "cell_type": "code",
   "execution_count": 7,
   "metadata": {
    "scrolled": true
   },
   "outputs": [],
   "source": [
    "def plot_product(xi, yi):\n",
    "    # Transforms a given example i of 784 pixels into its original shape of 28x28\n",
    "    img = xi.reshape(28,28)\n",
    "    \n",
    "    # cmap sets the color of a plot. Binary means black and white\n",
    "    plt.imshow(img,  cmap=plt.cm.binary)\n",
    "    \n",
    "    # Using the mapping list between label number and name\n",
    "    plt.title(f\"True label: {class_names[yi]}\")   \n",
    "    \n",
    "    plt.colorbar()\n",
    "    plt.grid(False)\n",
    "    plt.show()"
   ]
  },
  {
   "cell_type": "code",
   "execution_count": 8,
   "metadata": {
    "scrolled": true
   },
   "outputs": [
    {
     "data": {
      "image/png": "[encoded data removed]",
      "text/plain": [
       "<Figure size 432x288 with 2 Axes>"
      ]
     },
     "metadata": {
      "needs_background": "light"
     },
     "output_type": "display_data"
    }
   ],
   "source": [
    "plot_product(X[1], y[1])"
   ]
  },
  {
   "cell_type": "markdown",
   "metadata": {},
   "source": [
    "### <font color=\"red\">1.4 - Prétraiter</font> les données\n",
    "---\n",
    "Les données doivent être prétraitées avant d'entraîner le réseau. Si vous inspectez la première image de l'ensemble d'apprentissage, vous verrez que les valeurs de pixel sont comprises entre 0 et 255 :"
   ]
  },
  {
   "cell_type": "code",
   "execution_count": 9,
   "metadata": {},
   "outputs": [
    {
     "data": {
      "text/plain": [
       "array([[  0,   0,   0,   0,   0,   1,   0,   0,   0,   0,  41, 188, 103,\n",
       "         54,  48,  43,  87, 168, 133,  16,   0,   0,   0,   0,   0,   0,\n",
       "          0,   0],\n",
       "       [  0,   0,   0,   1,   0,   0,   0,  49, 136, 219, 216, 228, 236,\n",
       "        255, 255, 255, 255, 217, 215, 254, 231, 160,  45,   0,   0,   0,\n",
       "          0,   0],\n",
       "       [  0,   0,   0,   0,   0,  14, 176, 222, 224, 212, 203, 198, 196,\n",
       "        200, 215, 204, 202, 201, 201, 201, 209, 218, 224, 164,   0,   0,\n",
       "          0,   0],\n",
       "       [  0,   0,   0,   0,   0, 188, 219, 200, 198, 202, 198, 199, 199,\n",
       "        201, 196, 198, 198, 200, 200, 200, 200, 201, 200, 225,  41,   0,\n",
       "          0,   0],\n",
       "       [  0,   0,   0,   0,  51, 219, 199, 203, 203, 212, 238, 248, 250,\n",
       "        245, 249, 246, 247, 252, 248, 235, 207, 203, 203, 222, 140,   0,\n",
       "          0,   0],\n",
       "       [  0,   0,   0,   0, 116, 226, 206, 204, 207, 204, 101,  75,  47,\n",
       "         73,  48,  50,  45,  51,  63, 113, 222, 202, 206, 220, 224,   0,\n",
       "          0,   0],\n",
       "       [  0,   0,   0,   0, 200, 222, 209, 203, 215, 200,   0,  70,  98,\n",
       "          0, 103,  59,  68,  71,  49,   0, 219, 206, 214, 210, 250,  38,\n",
       "          0,   0],\n",
       "       [  0,   0,   0,   0, 247, 218, 212, 210, 215, 214,   0, 254, 243,\n",
       "        139, 255, 174, 251, 255, 205,   0, 215, 217, 214, 208, 220,  95,\n",
       "          0,   0],\n",
       "       [  0,   0,   0,  45, 226, 214, 214, 215, 224, 205,   0,  42,  35,\n",
       "         60,  16,  17,  12,  13,  70,   0, 189, 216, 212, 206, 212, 156,\n",
       "          0,   0],\n",
       "       [  0,   0,   0, 164, 235, 214, 211, 220, 216, 201,  52,  71,  89,\n",
       "         94,  83,  78,  70,  76,  92,  87, 206, 207, 222, 213, 219, 208,\n",
       "          0,   0],\n",
       "       [  0,   0,   0, 106, 187, 223, 237, 248, 211, 198, 252, 250, 248,\n",
       "        245, 248, 252, 253, 250, 252, 239, 201, 212, 225, 215, 193, 113,\n",
       "          0,   0],\n",
       "       [  0,   0,   0,   0,   0,  17,  54, 159, 222, 193, 208, 192, 197,\n",
       "        200, 200, 200, 200, 201, 203, 195, 210, 165,   0,   0,   0,   0,\n",
       "          0,   0],\n",
       "       [  0,   0,   0,   0,   0,   0,   0,  47, 225, 192, 214, 203, 206,\n",
       "        204, 204, 205, 206, 204, 212, 197, 218, 107,   0,   0,   0,   0,\n",
       "          0,   0],\n",
       "       [  0,   0,   0,   0,   1,   6,   0,  46, 212, 195, 212, 202, 206,\n",
       "        205, 204, 205, 206, 204, 212, 200, 218,  91,   0,   3,   1,   0,\n",
       "          0,   0],\n",
       "       [  0,   0,   0,   0,   0,   1,   0,  11, 197, 199, 205, 202, 205,\n",
       "        206, 204, 205, 207, 204, 205, 205, 218,  77,   0,   5,   0,   0,\n",
       "          0,   0],\n",
       "       [  0,   0,   0,   0,   0,   3,   0,   2, 191, 198, 201, 205, 206,\n",
       "        205, 205, 206, 209, 206, 199, 209, 219,  74,   0,   5,   0,   0,\n",
       "          0,   0],\n",
       "       [  0,   0,   0,   0,   0,   2,   0,   0, 188, 197, 200, 207, 207,\n",
       "        204, 207, 207, 210, 208, 198, 207, 221,  72,   0,   4,   0,   0,\n",
       "          0,   0],\n",
       "       [  0,   0,   0,   0,   0,   2,   0,   0, 215, 198, 203, 206, 208,\n",
       "        205, 207, 207, 210, 208, 200, 202, 222,  75,   0,   4,   0,   0,\n",
       "          0,   0],\n",
       "       [  0,   0,   0,   0,   0,   1,   0,   0, 212, 198, 209, 206, 209,\n",
       "        206, 208, 207, 211, 206, 205, 198, 221,  80,   0,   3,   0,   0,\n",
       "          0,   0],\n",
       "       [  0,   0,   0,   0,   0,   1,   0,   0, 204, 201, 205, 208, 207,\n",
       "        205, 211, 205, 210, 210, 209, 195, 221,  96,   0,   3,   0,   0,\n",
       "          0,   0],\n",
       "       [  0,   0,   0,   0,   0,   1,   0,   0, 202, 201, 205, 209, 207,\n",
       "        205, 213, 206, 210, 209, 210, 194, 217, 105,   0,   2,   0,   0,\n",
       "          0,   0],\n",
       "       [  0,   0,   0,   0,   0,   1,   0,   0, 204, 204, 205, 208, 207,\n",
       "        205, 215, 207, 210, 208, 211, 193, 213, 115,   0,   2,   0,   0,\n",
       "          0,   0],\n",
       "       [  0,   0,   0,   0,   0,   0,   0,   0, 204, 207, 207, 208, 206,\n",
       "        206, 215, 210, 210, 207, 212, 195, 210, 118,   0,   2,   0,   0,\n",
       "          0,   0],\n",
       "       [  0,   0,   0,   0,   0,   1,   0,   0, 198, 208, 208, 208, 204,\n",
       "        207, 212, 212, 210, 207, 211, 196, 207, 121,   0,   1,   0,   0,\n",
       "          0,   0],\n",
       "       [  0,   0,   0,   0,   0,   1,   0,   0, 198, 210, 207, 208, 206,\n",
       "        209, 213, 212, 211, 207, 210, 197, 207, 124,   0,   1,   0,   0,\n",
       "          0,   0],\n",
       "       [  0,   0,   0,   0,   0,   0,   0,   0, 172, 210, 203, 201, 199,\n",
       "        204, 207, 205, 204, 201, 205, 197, 206, 127,   0,   0,   0,   0,\n",
       "          0,   0],\n",
       "       [  0,   0,   0,   0,   0,   0,   0,   0, 188, 221, 214, 234, 236,\n",
       "        238, 244, 244, 244, 240, 243, 214, 224, 162,   0,   2,   0,   0,\n",
       "          0,   0],\n",
       "       [  0,   0,   0,   0,   0,   1,   0,   0, 139, 146, 130, 135, 135,\n",
       "        137, 125, 124, 125, 121, 119, 114, 130,  76,   0,   0,   0,   0,\n",
       "          0,   0]], dtype=uint8)"
      ]
     },
     "execution_count": 9,
     "metadata": {},
     "output_type": "execute_result"
    }
   ],
   "source": [
    "X[1]"
   ]
  },
  {
   "cell_type": "markdown",
   "metadata": {},
   "source": [
    "La plupart du temps, votre ensemble des données contiendra des primitives très variables en magnitudes (0-255, par exemple). \n",
    "\n",
    "Mais comme la plupart des algorithmes de ML utilisent la distance euclédienne entre deux points dans leurs calculs, cela pose un problème: \n",
    "\n",
    "Les primitives de grande magnitude pèseront beaucoup plus dans les calculs de distance que les primitives de faible magnitude.\n",
    "\n",
    "Pour supprimer cet effet, nous devons amener toutes les fonctionnalités au même niveau de magnitude.\n",
    "\n",
    "En utilisant le `MinMaxScaler` de sklearn, chaque pixel est transformé de valeurs entre 0 et 255 en valeurs entre 0 et 1 :"
   ]
  },
  {
   "cell_type": "code",
   "execution_count": 10,
   "metadata": {},
   "outputs": [
    {
     "data": {
      "text/plain": [
       "array([  0,   0,   0,   0,   0,   1,   0,   0,   0,   0,  41, 188, 103,\n",
       "        54,  48,  43,  87, 168, 133,  16,   0,   0,   0,   0,   0,   0,\n",
       "         0,   0,   0,   0,   0,   1,   0,   0,   0,  49, 136, 219, 216,\n",
       "       228, 236, 255, 255, 255, 255, 217, 215, 254, 231, 160,  45,   0,\n",
       "         0,   0,   0,   0,   0,   0,   0,   0,   0,  14, 176, 222, 224,\n",
       "       212, 203, 198, 196, 200, 215, 204, 202, 201, 201, 201, 209, 218,\n",
       "       224, 164,   0,   0,   0,   0,   0,   0,   0,   0,   0, 188, 219,\n",
       "       200, 198, 202, 198, 199, 199, 201, 196, 198, 198, 200, 200, 200,\n",
       "       200, 201, 200, 225,  41,   0,   0,   0,   0,   0,   0,   0,  51,\n",
       "       219, 199, 203, 203, 212, 238, 248, 250, 245, 249, 246, 247, 252,\n",
       "       248, 235, 207, 203, 203, 222, 140,   0,   0,   0,   0,   0,   0,\n",
       "         0, 116, 226, 206, 204, 207, 204, 101,  75,  47,  73,  48,  50,\n",
       "        45,  51,  63, 113, 222, 202, 206, 220, 224,   0,   0,   0,   0,\n",
       "         0,   0,   0, 200, 222, 209, 203, 215, 200,   0,  70,  98,   0,\n",
       "       103,  59,  68,  71,  49,   0, 219, 206, 214, 210, 250,  38,   0,\n",
       "         0,   0,   0,   0,   0, 247, 218, 212, 210, 215, 214,   0, 254,\n",
       "       243, 139, 255, 174, 251, 255, 205,   0, 215, 217, 214, 208, 220,\n",
       "        95,   0,   0,   0,   0,   0,  45, 226, 214, 214, 215, 224, 205,\n",
       "         0,  42,  35,  60,  16,  17,  12,  13,  70,   0, 189, 216, 212,\n",
       "       206, 212, 156,   0,   0,   0,   0,   0, 164, 235, 214, 211, 220,\n",
       "       216, 201,  52,  71,  89,  94,  83,  78,  70,  76,  92,  87, 206,\n",
       "       207, 222, 213, 219, 208,   0,   0,   0,   0,   0, 106, 187, 223,\n",
       "       237, 248, 211, 198, 252, 250, 248, 245, 248, 252, 253, 250, 252,\n",
       "       239, 201, 212, 225, 215, 193, 113,   0,   0,   0,   0,   0,   0,\n",
       "         0,  17,  54, 159, 222, 193, 208, 192, 197, 200, 200, 200, 200,\n",
       "       201, 203, 195, 210, 165,   0,   0,   0,   0,   0,   0,   0,   0,\n",
       "         0,   0,   0,   0,   0,  47, 225, 192, 214, 203, 206, 204, 204,\n",
       "       205, 206, 204, 212, 197, 218, 107,   0,   0,   0,   0,   0,   0,\n",
       "         0,   0,   0,   0,   1,   6,   0,  46, 212, 195, 212, 202, 206,\n",
       "       205, 204, 205, 206, 204, 212, 200, 218,  91,   0,   3,   1,   0,\n",
       "         0,   0,   0,   0,   0,   0,   0,   1,   0,  11, 197, 199, 205,\n",
       "       202, 205, 206, 204, 205, 207, 204, 205, 205, 218,  77,   0,   5,\n",
       "         0,   0,   0,   0,   0,   0,   0,   0,   0,   3,   0,   2, 191,\n",
       "       198, 201, 205, 206, 205, 205, 206, 209, 206, 199, 209, 219,  74,\n",
       "         0,   5,   0,   0,   0,   0,   0,   0,   0,   0,   0,   2,   0,\n",
       "         0, 188, 197, 200, 207, 207, 204, 207, 207, 210, 208, 198, 207,\n",
       "       221,  72,   0,   4,   0,   0,   0,   0,   0,   0,   0,   0,   0,\n",
       "         2,   0,   0, 215, 198, 203, 206, 208, 205, 207, 207, 210, 208,\n",
       "       200, 202, 222,  75,   0,   4,   0,   0,   0,   0,   0,   0,   0,\n",
       "         0,   0,   1,   0,   0, 212, 198, 209, 206, 209, 206, 208, 207,\n",
       "       211, 206, 205, 198, 221,  80,   0,   3,   0,   0,   0,   0,   0,\n",
       "         0,   0,   0,   0,   1,   0,   0, 204, 201, 205, 208, 207, 205,\n",
       "       211, 205, 210, 210, 209, 195, 221,  96,   0,   3,   0,   0,   0,\n",
       "         0,   0,   0,   0,   0,   0,   1,   0,   0, 202, 201, 205, 209,\n",
       "       207, 205, 213, 206, 210, 209, 210, 194, 217, 105,   0,   2,   0,\n",
       "         0,   0,   0,   0,   0,   0,   0,   0,   1,   0,   0, 204, 204,\n",
       "       205, 208, 207, 205, 215, 207, 210, 208, 211, 193, 213, 115,   0,\n",
       "         2,   0,   0,   0,   0,   0,   0,   0,   0,   0,   0,   0,   0,\n",
       "       204, 207, 207, 208, 206, 206, 215, 210, 210, 207, 212, 195, 210,\n",
       "       118,   0,   2,   0,   0,   0,   0,   0,   0,   0,   0,   0,   1,\n",
       "         0,   0, 198, 208, 208, 208, 204, 207, 212, 212, 210, 207, 211,\n",
       "       196, 207, 121,   0,   1,   0,   0,   0,   0,   0,   0,   0,   0,\n",
       "         0,   1,   0,   0, 198, 210, 207, 208, 206, 209, 213, 212, 211,\n",
       "       207, 210, 197, 207, 124,   0,   1,   0,   0,   0,   0,   0,   0,\n",
       "         0,   0,   0,   0,   0,   0, 172, 210, 203, 201, 199, 204, 207,\n",
       "       205, 204, 201, 205, 197, 206, 127,   0,   0,   0,   0,   0,   0,\n",
       "         0,   0,   0,   0,   0,   0,   0,   0, 188, 221, 214, 234, 236,\n",
       "       238, 244, 244, 244, 240, 243, 214, 224, 162,   0,   2,   0,   0,\n",
       "         0,   0,   0,   0,   0,   0,   0,   1,   0,   0, 139, 146, 130,\n",
       "       135, 135, 137, 125, 124, 125, 121, 119, 114, 130,  76,   0,   0,\n",
       "         0,   0,   0,   0], dtype=uint8)"
      ]
     },
     "execution_count": 10,
     "metadata": {},
     "output_type": "execute_result"
    },
    {
     "data": {
      "image/png": "[encoded data removed]",
      "text/plain": [
       "<Figure size 432x288 with 2 Axes>"
      ]
     },
     "metadata": {
      "needs_background": "light"
     },
     "output_type": "display_data"
    }
   ],
   "source": [
    "# Transforming each matrix example of 28x28 pixles in a vector example of 784 pixels\n",
    "X = X.reshape(len(y), 784)\n",
    "X_test = X_test.reshape(len(y_test), 784)\n",
    "\n",
    "# scaler = MinMaxScaler()\n",
    "# X = scaler.fit_transform(X)\n",
    "# X_test = scaler.fit_transform(X_test)\n",
    "\n",
    "X[1]\n",
    "plot_product(X[1], y[1])"
   ]
  },
  {
   "cell_type": "markdown",
   "metadata": {},
   "source": [
    "Pour vérifier que les données sont au format correct et que vous êtes prêt à créer et à former le réseau, affichons les 25 premières images de l'ensemble d'apprentissage et affichons le nom de la classe sous chaque image."
   ]
  },
  {
   "cell_type": "code",
   "execution_count": 11,
   "metadata": {},
   "outputs": [
    {
     "data": {
      "image/png": "[encoded data removed]",
      "text/plain": [
       "<Figure size 720x720 with 25 Axes>"
      ]
     },
     "metadata": {},
     "output_type": "display_data"
    }
   ],
   "source": [
    "def plot_product_grid(X, y, rows, cols):\n",
    "    plt.figure(figsize=(2*rows, 2*cols))  # set the size of the figure 10 inches by 10 inches\n",
    "    for i in range(rows*cols):  # iterates over 25 images\n",
    "        plt.subplot(rows, cols, i+1)  # indicate each cell in the plot\n",
    "        plt.xticks([])  # void x axis ticks\n",
    "        plt.yticks([])  # void y axis ticks\n",
    "        plt.grid(False)\n",
    "        plt.imshow(X[i].reshape(28,28), cmap=plt.cm.binary)  # set image to display in current cell\n",
    "        plt.xlabel(class_names[y[i]])  # class to display in currente cell\n",
    "    plt.show()\n",
    "\n",
    "plot_product_grid(X[:25], y[:25], 5, 5)"
   ]
  },
  {
   "cell_type": "markdown",
   "metadata": {},
   "source": [
    "### <font color=\"red\">1.5 - Implémentation</font> du modèle\n",
    "--- \n",
    "L'implémentation du modèle se fera à l'aide d'une classe appelée `NNClassifier`, avec les paramètres d'initialisation suivants:"
   ]
  },
  {
   "cell_type": "markdown",
   "metadata": {},
   "source": [
    "```Python\n",
    "class NNClassifier:\n",
    "\n",
    "    def __init__(self, n_classes, n_features, n_hidden_units=30, epochs=500, \n",
    "                 learning_rate=0.01, n_batches=1):\n",
    "        \n",
    "        # Parameters of the network\n",
    "        self.n_classes = n_classes\n",
    "        self.n_features = n_features\n",
    "        self.n_hidden_units = n_hidden_units       \n",
    "        self.n_batches = n_batches\n",
    "        self.w1, self.w2 = self.weights()\n",
    "        \n",
    "        self.epochs = epochs\n",
    "```"
   ]
  },
  {
   "cell_type": "markdown",
   "metadata": {},
   "source": [
    "Après on va créer les matrices de poids aléatoires pour les valeurs initiaux :"
   ]
  },
  {
   "cell_type": "markdown",
   "metadata": {},
   "source": [
    "```Python\n",
    "class NNClassifier:\n",
    "\n",
    "    def __init__(self, n_classes, n_features, n_hidden_units=30, epochs=500, \n",
    "                 learning_rate=0.01, n_batches=1):\n",
    "        \n",
    "        # Parameters of the network\n",
    "        self.n_classes = n_classes\n",
    "        self.n_features = n_features\n",
    "        self.n_hidden_units = n_hidden_units       \n",
    "        self.n_batches = n_batches\n",
    "        self.w1, self.w2 = self.weights()\n",
    "        \n",
    "        self.epochs = epochs\n",
    "        self.learning_rate = learning_rate        \n",
    "\n",
    "    def weights(self):\n",
    "        # Weight matrix from input to hidden layer\n",
    "        w1 = np.random.rand(self.n_hidden_units, self.n_features)        \n",
    "        \n",
    "        # Weight matrix from hidden to output layer\n",
    "        w2 = np.random.rand(self.n_classes, self.n_hidden_units)        \n",
    "        \n",
    "        return w1, w2\n",
    "```"
   ]
  },
  {
   "cell_type": "markdown",
   "metadata": {},
   "source": [
    "### **Function sigmoïde**\n",
    "\n",
    "L'une des raisons d'utiliser la fonction sigmoïde est due à ses propriétés mathématiques, dans notre cas, à ses dérivées. Lorsque le réseau de neurones fait le backpropagation pour apprendre et mettre à jour les poids, nous utiliserons sa dérivée. À continuation implémentez la fonction `sigmoide` et `sigmoide_prime`\n",
    "\n",
    "\\begin{equation}\n",
    "    \\sigma(x) = \\frac{1}{1+\\exp^{-x}} \\\\\n",
    "    \\sigma'(x) = \\sigma(x) \\cdot (1-\\sigma(x))\n",
    "\\end{equation}\n"
   ]
  },
  {
   "cell_type": "code",
   "execution_count": 27,
   "metadata": {},
   "outputs": [],
   "source": [
    "def sigmoid(z):\n",
    "    return 1 / (1 + np.exp(-z))\n",
    "\n",
    "def sigmoid_prime(z):\n",
    "    o = sigmoid(z)\n",
    "    return o*(1-o)"
   ]
  },
  {
   "cell_type": "markdown",
   "metadata": {},
   "source": [
    "### **Mesurer l'erreur**\n",
    "\n",
    "La fonction de perte est un moyen de mesurer la performance de votre réseau par rapport aux valeurs réelles.\n",
    "\n",
    "La fonction de perte la plus couramment utilisée est l'erreur quadratique moyenne. Comme nous traitons d'un problème de classification multi-classes, le résultat sera une distribution de probabilité. nous devons la comparer à nos valeurs réelles, qui sont aussi une distribution de probabilité, et trouver l'erreur.\n",
    "\n",
    "Nous allons utiliser la fonction de Cross-Entropy pour évaluer l’erreur. Cette fonction mesure les performances d'un modèle de classification dont le résultat est une probabilité.\n",
    "\n",
    "\n",
    "\\begin{equation}\n",
    "    Cross-Entropy = -\\sum_{c=1}^{C} y_{o,c}\\log(p_{o,c})\n",
    "\\end{equation}\n",
    "\n",
    "Ou :\n",
    "\n",
    "* $C$ : C'est le nombre de classes\n",
    "* $y$ : C'est un indicateur binaire si l'étiquette de classe est la classification correcte pour l'observation\n",
    "* $p$ : C'est la probabilité prédite que $o$ est de la classe $c$\n",
    "\n",
    "À conitnuation, faites l'implémentation en python de cette fonction :"
   ]
  },
  {
   "cell_type": "code",
   "execution_count": 43,
   "metadata": {},
   "outputs": [],
   "source": [
    "def cross_entropy(outputs, y_target):\n",
    "    return -np.sum(y_target*np.log(outputs))\n",
    "    "
   ]
  },
  {
   "cell_type": "markdown",
   "metadata": {},
   "source": [
    "Maintenant que nous avons notre fonction de perte, nous pouvons enfin définir l'erreur pour notre modèle:"
   ]
  },
  {
   "cell_type": "markdown",
   "metadata": {},
   "source": [
    "```Python\n",
    "class NNClassifier:\n",
    "\n",
    "    def __init__(self, n_classes, n_features, n_hidden_units=30, epochs=500, \n",
    "                 learning_rate=0.01, n_batches=1):\n",
    "        \n",
    "        # Parameters of the network\n",
    "        self.n_classes = n_classes\n",
    "        self.n_features = n_features\n",
    "        self.n_hidden_units = n_hidden_units       \n",
    "        self.n_batches = n_batches\n",
    "        self.w1, self.w2 = self.weights()\n",
    "        \n",
    "        self.epochs = epochs\n",
    "        self.learning_rate = learning_rate        \n",
    "\n",
    "    def weights(self):\n",
    "        # Weight matrix from input to hidden layer\n",
    "        w1 = np.random.rand(self.n_hidden_units, self.n_features)        \n",
    "        \n",
    "        # Weight matrix from hidden to output layer\n",
    "        w2 = np.random.rand(self.n_classes, self.n_hidden_units)        \n",
    "        \n",
    "        return w1, w2\n",
    "    \n",
    "    def error(self, y, output):\n",
    "        error = cross_entropy(output, y)\n",
    "        return 0.5 * np.mean(error)\n",
    "```"
   ]
  },
  {
   "cell_type": "markdown",
   "metadata": {},
   "source": [
    "### **Propagation en avant**\n",
    "\n",
    "Le processus de feed-forward est assez simple. La formule $z = (weights \\cdot input)$ calcule $z$ qui est passé dans les couches, qui contient des fonctions d'activation spécifiques. Ces fonctions d'activation produisent la sortie $f(z)$. La sortie de la couche actuel sera l'entrée de la couche suivant et ainsi de suite.\n",
    "\n",
    "À continuation, complétez la fonction `summation` d'accord à la formule précédente : "
   ]
  },
  {
   "cell_type": "code",
   "execution_count": 44,
   "metadata": {},
   "outputs": [],
   "source": [
    "def summation(w, X):\n",
    "    return np.dot(w,X) #+ w[0]"
   ]
  },
  {
   "cell_type": "markdown",
   "metadata": {},
   "source": [
    "Maintenant que l'on a les fonctions `sigmoid` et `summation`, on peut implémenter le `forward` :"
   ]
  },
  {
   "cell_type": "markdown",
   "metadata": {},
   "source": [
    "```Python\n",
    "class NNClassifier:\n",
    "\n",
    "    def __init__(self, n_classes, n_features, n_hidden_units=30, epochs=500, \n",
    "                 learning_rate=0.01, n_batches=1):\n",
    "        \n",
    "        # Parameters of the network\n",
    "        self.n_classes = n_classes\n",
    "        self.n_features = n_features\n",
    "        self.n_hidden_units = n_hidden_units       \n",
    "        self.n_batches = n_batches\n",
    "        self.w1, self.w2 = self.weights()\n",
    "        \n",
    "        self.epochs = epochs\n",
    "        self.learning_rate = learning_rate        \n",
    "\n",
    "    def weights(self):\n",
    "        # Weight matrix from input to hidden layer\n",
    "        w1 = np.random.rand(self.n_hidden_units, self.n_features)        \n",
    "        \n",
    "        # Weight matrix from hidden to output layer\n",
    "        w2 = np.random.rand(self.n_classes, self.n_hidden_units)        \n",
    "        \n",
    "        return w1, w2\n",
    "    \n",
    "    def error(self, y, output):\n",
    "        error = cross_entropy(output, y)\n",
    "        return 0.5 * np.mean(error)\n",
    "\n",
    "    def forward(self, X):\n",
    "        # dot product of X (input) and first set of weights\n",
    "        z1 = summation(self.w1, X.T)  # self.w1.dot(X.T) \n",
    "        hidden_output = sigmoid(z1)  # activation function       \n",
    "        \n",
    "        \n",
    "        # dot product of hidden layer and second set of weights\n",
    "        z2 = summation(self.w2, hidden_output)  # self.w2.dot(hidden_output)\n",
    "        final_output = sigmoid(z2)   # final activation function     \n",
    "        \n",
    "        return z1, hidden_output, z2, final_output\n",
    "```"
   ]
  },
  {
   "cell_type": "markdown",
   "metadata": {},
   "source": [
    "### **Propagation en arrière**\n",
    "\n",
    "Fondamentalement, back-prop calcule l'erreur à partir de la sortie de feed-forward et de la valeur réelle. Cette erreur est rétro-propagée à toutes les matrices de pondération en calculant les gradients de chaque couche et ces pondérations sont mises à jour. Regardons donc les méthodes de `backward` et `train`:\n",
    "\n",
    "Pour chaque époque, nous appliquons l'algorithme back-prop, évaluons l'erreur et le gradient par rapport aux poids. Nous utilisons ensuite le taux d’apprentissage et les gradients pour mettre à jour les poids.\n",
    "\n",
    "Ensuite, nous devons utiliser un encodage one_hot, recherchez ce que c'est et pourquoi est-ce nécessaire :"
   ]
  },
  {
   "cell_type": "code",
   "execution_count": 17,
   "metadata": {},
   "outputs": [],
   "source": [
    "def one_hot(y, n_labels):\n",
    "    mat = np.zeros((len(y), n_labels))\n",
    "    for i, val in enumerate(y):\n",
    "        mat[i, val] = 1\n",
    "    return mat"
   ]
  },
  {
   "cell_type": "markdown",
   "metadata": {},
   "source": [
    "```Python\n",
    "class NNClassifier:\n",
    "\n",
    "    def __init__(self, n_classes, n_features, n_hidden_units=30, epochs=500, learning_rate=0.01,\n",
    "                 n_batches=1):\n",
    "        # Parameters of the network\n",
    "        self.n_classes = n_classes\n",
    "        self.n_features = n_features\n",
    "        self.n_hidden_units = n_hidden_units\n",
    "        self.n_batches = n_batches\n",
    "        self.w1, self.w2 = self.weights()\n",
    "\n",
    "        self.epochs = epochs\n",
    "        self.learning_rate = learning_rate\n",
    "\n",
    "    def weights(self):\n",
    "        # Weight matrix from input to hidden layer\n",
    "        w1 = np.random.uniform(-1.0, 1.0,\n",
    "                               size=(self.n_hidden_units, self.n_features))\n",
    "\n",
    "\n",
    "        # Weight matrix from hidden to output layer\n",
    "        w2 =   w2 = np.random.uniform(-1.0, 1.0,\n",
    "                               size=(self.n_classes, self.n_hidden_units))\n",
    "\n",
    "        return w1, w2\n",
    "\n",
    "    def forward(self, X):\n",
    "        # dot product of X (input) and first set of weights\n",
    "        z1 = summation(self.w1, X.T)  # self.w1.dot(X.T)\n",
    "        hidden_output = sigmoid(z1)  # activation function\n",
    "\n",
    "        # dot product of hidden layer and second set of weights\n",
    "        z2 = summation(self.w2, hidden_output)  # self.w2.dot(hidden_output)\n",
    "        final_output = sigmoid(z2)   # final activation function\n",
    "\n",
    "        return z1, hidden_output, z2, final_output\n",
    "    \n",
    "    def error(self, y, output):\n",
    "        error = cross_entropy(output, y)\n",
    "        return 0.5 * np.mean(error)\n",
    "\n",
    "    def backward(self, X, z1, hidden_output, final_output, y):\n",
    "        \n",
    "        # Error in output\n",
    "        output_error = final_output - y\n",
    "\n",
    "        # Applying derivative of sigmoid to error\n",
    "        output_delta = self.w2.T.dot(output_error) * sigmoid_prime(z1)\n",
    "\n",
    "        # How much our input layer weights contributed to output error\n",
    "        grad1 = output_delta.dot(X)\n",
    "\n",
    "        # How much our hidden layer weights contributed to output error\n",
    "        grad2 = output_error.dot(hidden_output.T)\n",
    "        \n",
    "        return grad1, grad2   \n",
    "\n",
    "    def backprop_step(self, X, y):\n",
    "        z1, hidden_output, z2, final_output = self.forward(X)\n",
    "        y = y.T\n",
    "\n",
    "        grad1, grad2 = self.backward(X, z1, hidden_output, final_output, y)\n",
    "        \n",
    "        # Calculating the error with the cross-entropy function\n",
    "        error = self.error(y, final_output)\n",
    "\n",
    "        return error, grad1, grad2   \n",
    "\n",
    "    def train(self, X, y):\n",
    "        self.error_ = []        \n",
    "        y = one_hot(y, self.n_classes)\n",
    "        \n",
    "        # Divides the dataset in processing bathces\n",
    "        X_bathces = np.array_split(X, self.n_batches)\n",
    "        y_bathces = np.array_split(y, self.n_batches)      \n",
    "\n",
    "        # Make the iterations\n",
    "        for i in range(self.epochs):\n",
    "\n",
    "            epoch_errors = []\n",
    "\n",
    "            for Xi, yi in zip(X_bathces, y_bathces):\n",
    "\n",
    "                # Update weights\n",
    "                error, grad1, grad2 = self.backprop_step(Xi, yi)\n",
    "                epoch_errors.append(error)\n",
    "                self.w1 -= (self.learning_rate * grad1)\n",
    "                self.w2 -= (self.learning_rate * grad2)\n",
    "            self.error_.append(np.mean(epoch_errors))\n",
    "        return self\n",
    "```"
   ]
  },
  {
   "cell_type": "markdown",
   "metadata": {},
   "source": [
    "### **Faire des prédictions**\n",
    "Maintenant que notre modèle peut apprendre des données, il est temps de faire des prédictions sur des données qu'il n'a jamais vues auparavant. Nous allons implémenter deux méthodes de prédiction: `predict` et `predict_proba`.\n",
    "\n",
    "```Python\n",
    "def predict(self, X):          \n",
    "        z1, hidden_output, z2, final_output = self.forward(X)\n",
    "        return mle(z2.T)\n",
    "```\n",
    "\n",
    "Rappelez-vous que les prédictions dans un NN (généralement) incluent l’application d’un feed-forward sur les données. Mais il en résulte un vecteur de valeurs représentant le poids de chaque classe pour les données. Nous utiliserons l’estimation Maximum likelihood (MLE) pour obtenir nos prédictions finales. MLE fonctionne en choisissant la valeur la plus élevée et en la retournant sous forme de classe prédite pour l'entrée :"
   ]
  },
  {
   "cell_type": "code",
   "execution_count": 18,
   "metadata": {},
   "outputs": [],
   "source": [
    "def mle(y, axis=1):\n",
    "    return np.argmax(y, axis)"
   ]
  },
  {
   "cell_type": "markdown",
   "metadata": {},
   "source": [
    "La méthode predict_proba retourne une distribution de probabilité sur toutes les classes, représentant la probabilité que chaque classe soit correcte. Notez que nous l'obtenons en appliquant la fonction `softmax` au résultat du pas en avant.\n",
    "\n",
    "```Python\n",
    "def predict_proba(self, X):        \n",
    "    z1, hidden_output, z2, final_output = self.forward(X)\n",
    "    return softmax(final_output.T)\n",
    "```\n",
    "\n",
    "La fonction `softmax` est une fonction d'activation qui transforme les nombres, c'est-à-dire les logits (sigmoïdes) en probabilités qui s'additionnent en un. La fonction `softmax` produit un vecteur qui représente les distributions de probabilité d'une liste de résultats potentiels.\n",
    "\n",
    "\\begin{equation}\n",
    "    softmax(x_i) = \\frac{exp^{x_j}}{\\sum_{j} \\exp^{x_i}} \n",
    "\\end{equation}\n"
   ]
  },
  {
   "cell_type": "code",
   "execution_count": 19,
   "metadata": {},
   "outputs": [],
   "source": [
    "def softmax(z):\n",
    "    return (np.exp(z.T) / np.sum(np.exp(z), axis=1)).T"
   ]
  },
  {
   "cell_type": "code",
   "execution_count": 20,
   "metadata": {},
   "outputs": [],
   "source": [
    "class NNClassifier:\n",
    "\n",
    "    def __init__(self, n_classes, n_features, n_hidden_units=30, epochs=500, learning_rate=0.01,\n",
    "                 n_batches=1):\n",
    "        # Parameters of the network\n",
    "        self.n_classes = n_classes\n",
    "        self.n_features = n_features\n",
    "        self.n_hidden_units = n_hidden_units\n",
    "        self.n_batches = n_batches\n",
    "        self.w1, self.w2 = self.weights()\n",
    "\n",
    "        self.epochs = epochs\n",
    "        self.learning_rate = learning_rate\n",
    "\n",
    "    def weights(self):\n",
    "        # Weight matrix from input to hidden layer\n",
    "        w1 = np.random.uniform(-1.0, 1.0,\n",
    "                               size=(self.n_hidden_units, self.n_features))\n",
    "\n",
    "\n",
    "        # Weight matrix from hidden to output layer\n",
    "        w2 =   w2 = np.random.uniform(-1.0, 1.0,\n",
    "                               size=(self.n_classes, self.n_hidden_units))\n",
    "\n",
    "        return w1, w2\n",
    "\n",
    "    def forward(self, X):\n",
    "        # dot product of X (input) and first set of weights\n",
    "        z1 = summation(self.w1, X.T)  # self.w1.dot(X.T)\n",
    "        hidden_output = sigmoid(z1)  # activation function\n",
    "\n",
    "        # dot product of hidden layer and second set of weights\n",
    "        z2 = summation(self.w2, hidden_output)  # self.w2.dot(hidden_output)\n",
    "        final_output = sigmoid(z2)   # final activation function\n",
    "        \n",
    "        # boucle for nombre de couche\n",
    "\n",
    "        return z1, hidden_output, z2, final_output\n",
    "    \n",
    "    def error(self, y, output):\n",
    "        error = cross_entropy(output, y)\n",
    "        return 0.5 * np.mean(error)\n",
    "\n",
    "    def backward(self, X, z1, hidden_output, final_output, y):\n",
    "        \n",
    "        # Error in output\n",
    "        output_error = final_output - y\n",
    "\n",
    "        # Applying derivative of sigmoid to error\n",
    "        output_delta = self.w2.T.dot(output_error) * sigmoid_prime(z1)\n",
    "\n",
    "        # How much our input layer weights contributed to output error\n",
    "        grad1 = output_delta.dot(X)\n",
    "\n",
    "        # How much our hidden layer weights contributed to output error\n",
    "        grad2 = output_error.dot(hidden_output.T)\n",
    "        \n",
    "        return grad1, grad2   \n",
    "\n",
    "    def backprop_step(self, X, y):\n",
    "        z1, hidden_output, z2, final_output = self.forward(X)\n",
    "        y = y.T\n",
    "\n",
    "        grad1, grad2 = self.backward(X, z1, hidden_output, final_output, y)\n",
    "        \n",
    "        # Calculating the error with the cross-entropy function\n",
    "        error = self.error(y, final_output)\n",
    "\n",
    "        return error, grad1, grad2   \n",
    "\n",
    "    def train(self, X, y):\n",
    "        self.error_ = []        \n",
    "        y = one_hot(y, self.n_classes)\n",
    "        \n",
    "        # Divides the dataset in processing bathces\n",
    "        X_bathces = np.array_split(X, self.n_batches)\n",
    "        y_bathces = np.array_split(y, self.n_batches)      \n",
    "\n",
    "        # Make the iterations\n",
    "        for i in range(self.epochs):\n",
    "\n",
    "            epoch_errors = []\n",
    "\n",
    "            for Xi, yi in zip(X_bathces, y_bathces):\n",
    "\n",
    "                # Update weights\n",
    "                error, grad1, grad2 = self.backprop_step(Xi, yi)\n",
    "                epoch_errors.append(error)\n",
    "                self.w1 -= (self.learning_rate * grad1)\n",
    "                self.w2 -= (self.learning_rate * grad2)\n",
    "            self.error_.append(np.mean(epoch_errors))\n",
    "        return self\n",
    "    \n",
    "    def predict(self, X):        \n",
    "        z1, hidden_output, z2, final_output = self.forward(X)\n",
    "        return mle(z2.T)\n",
    "\n",
    "    def predict_proba(self, X):        \n",
    "        z1, hidden_output, z2, final_output = self.forward(X)\n",
    "        return softmax(final_output.T)\n",
    "\n",
    "    def score(self, X, y):\n",
    "        y_hat = self.predict(X)\n",
    "        return np.sum(y == y_hat, axis=0) / float(X.shape[0])"
   ]
  },
  {
   "cell_type": "markdown",
   "metadata": {},
   "source": [
    "### **Évaluation**\n",
    "La formation peut prendre un peu de temps, alors soyez patient."
   ]
  },
  {
   "cell_type": "code",
   "execution_count": 56,
   "metadata": {
    "scrolled": true
   },
   "outputs": [],
   "source": [
    "N_FEATURES = 28 * 28 # 28x28 pixels for the images\n",
    "N_CLASSES = 10\n",
    "\n",
    "nn = NNClassifier(\n",
    "    n_classes=N_CLASSES, \n",
    "    n_features=N_FEATURES,\n",
    "    n_hidden_units=50,    # nombre de neurones dans la couche\n",
    "    epochs=300,\n",
    "    learning_rate=0.001,\n",
    "    n_batches=25,\n",
    ").train(X, y);"
   ]
  },
  {
   "cell_type": "markdown",
   "metadata": {},
   "source": [
    "Jetons un coup d'oeil à l'erreur d'entraînement :"
   ]
  },
  {
   "cell_type": "code",
   "execution_count": 57,
   "metadata": {},
   "outputs": [],
   "source": [
    "def plot_error(model):\n",
    "    plt.plot(range(len(model.error_)), model.error_)\n",
    "    plt.ylabel('Errors')\n",
    "    plt.xlabel('Epochs')\n",
    "    plt.show()"
   ]
  },
  {
   "cell_type": "code",
   "execution_count": 58,
   "metadata": {
    "scrolled": true
   },
   "outputs": [
    {
     "data": {
      "image/png": "[encoded data removed]",
      "text/plain": [
       "<Figure size 432x288 with 1 Axes>"
      ]
     },
     "metadata": {
      "needs_background": "light"
     },
     "output_type": "display_data"
    }
   ],
   "source": [
    "plot_error(nn)"
   ]
  },
  {
   "cell_type": "markdown",
   "metadata": {},
   "source": [
    "Obtenons les prédictions :"
   ]
  },
  {
   "cell_type": "code",
   "execution_count": 59,
   "metadata": {
    "scrolled": false
   },
   "outputs": [],
   "source": [
    "y_hat = nn.predict_proba(X_test)"
   ]
  },
  {
   "cell_type": "markdown",
   "metadata": {},
   "source": [
    "Jetons un coup d’œil à une seule prédiction :"
   ]
  },
  {
   "cell_type": "code",
   "execution_count": 60,
   "metadata": {},
   "outputs": [
    {
     "data": {
      "text/plain": [
       "<Figure size 432x216 with 0 Axes>"
      ]
     },
     "execution_count": 60,
     "metadata": {},
     "output_type": "execute_result"
    },
    {
     "data": {
      "text/plain": [
       "<matplotlib.axes._subplots.AxesSubplot at 0x1fe3ed8bc18>"
      ]
     },
     "execution_count": 60,
     "metadata": {},
     "output_type": "execute_result"
    },
    {
     "data": {
      "text/plain": [
       "<matplotlib.axes._subplots.AxesSubplot at 0x1fe3eae4eb8>"
      ]
     },
     "execution_count": 60,
     "metadata": {},
     "output_type": "execute_result"
    },
    {
     "data": {
      "image/png": "[encoded data removed]",
      "text/plain": [
       "<Figure size 432x216 with 2 Axes>"
      ]
     },
     "metadata": {},
     "output_type": "display_data"
    }
   ],
   "source": [
    "i = 0\n",
    "plt.figure(figsize=(6, 3))\n",
    "plt.subplot(1, 2, 1)\n",
    "plot_image(i, y_hat, y_test, X_test)\n",
    "plt.subplot(1, 2, 2)\n",
    "plot_value_array(i, y_hat,  y_test)"
   ]
  },
  {
   "cell_type": "markdown",
   "metadata": {},
   "source": [
    "Celui-là semble correct! Regardons quelques autres:"
   ]
  },
  {
   "cell_type": "code",
   "execution_count": 61,
   "metadata": {
    "scrolled": true
   },
   "outputs": [
    {
     "data": {
      "image/png": "[encoded data removed]",
      "text/plain": [
       "<Figure size 864x720 with 30 Axes>"
      ]
     },
     "metadata": {},
     "output_type": "display_data"
    }
   ],
   "source": [
    "plot_image_grid(X_test, y_test, y_hat)"
   ]
  },
  {
   "cell_type": "markdown",
   "metadata": {},
   "source": [
    "Précision de l'entraînement et des tests :"
   ]
  },
  {
   "cell_type": "code",
   "execution_count": 62,
   "metadata": {
    "scrolled": true
   },
   "outputs": [
    {
     "name": "stdout",
     "output_type": "stream",
     "text": [
      "Train Accuracy: 71.49%\n",
      "Test Accuracy: 70.72%\n"
     ]
    }
   ],
   "source": [
    "print('Train Accuracy: %.2f%%' % (nn.score(X, y) * 100))\n",
    "print('Test Accuracy: %.2f%%' % (nn.score(X_test, y_test) * 100))"
   ]
  },
  {
   "cell_type": "markdown",
   "metadata": {},
   "source": [
    "### <b>Questions finales</b>\n",
    "\n",
    "1. À quoi sert la méthode one_hot ?\n",
    "2. Que se passe-t-il si l'__image scaling_ n'est pas fait ? Effectuer un test pour le vérifier.\n",
    "3. Effectuez des modifications aux valeurs des hyperparamètres pour tester le comportement du réseau."
   ]
  }
 ],
 "metadata": {
  "kernelspec": {
   "display_name": "Python 3",
   "language": "python",
   "name": "python3"
  },
  "language_info": {
   "codemirror_mode": {
    "name": "ipython",
    "version": 3
   },
   "file_extension": ".py",
   "mimetype": "text/x-python",
   "name": "python",
   "nbconvert_exporter": "python",
   "pygments_lexer": "ipython3",
   "version": "3.6.9"
  }
 },
 "nbformat": 4,
 "nbformat_minor": 2
}